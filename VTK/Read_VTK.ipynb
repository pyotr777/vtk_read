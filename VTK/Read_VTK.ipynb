{
 "cells": [
  {
   "cell_type": "markdown",
   "metadata": {},
   "source": [
    "# Read and analyse VTK files from OpenFOAM"
   ]
  },
  {
   "cell_type": "markdown",
   "metadata": {},
   "source": [
    "## init"
   ]
  },
  {
   "cell_type": "code",
   "execution_count": 1,
   "metadata": {
    "collapsed": true
   },
   "outputs": [],
   "source": [
    "%matplotlib inline"
   ]
  },
  {
   "cell_type": "code",
   "execution_count": 2,
   "metadata": {
    "collapsed": true
   },
   "outputs": [],
   "source": [
    "import dolfin as df\n",
    "import mshr\n",
    "\n",
    "import numpy as np\n",
    "\n",
    "import plot_vtk_matplotlib as pvm"
   ]
  },
  {
   "cell_type": "code",
   "execution_count": 6,
   "metadata": {
    "collapsed": false
   },
   "outputs": [
    {
     "name": "stdout",
     "output_type": "stream",
     "text": [
      ".ipynb_checkpoints\n",
      "bottom\n",
      "frontAndBack\n",
      "inlet\n",
      "outlet\n",
      "ppWall_0.vtk\n",
      "ppWall_100.vtk\n",
      "ppWall_1000.vtk\n",
      "ppWall_120.vtk\n",
      "ppWall_140.vtk\n",
      "ppWall_160.vtk\n",
      "ppWall_180.vtk\n",
      "ppWall_20.vtk\n",
      "ppWall_200.vtk\n",
      "ppWall_220.vtk\n",
      "ppWall_240.vtk\n",
      "ppWall_260.vtk\n",
      "ppWall_280.vtk\n",
      "ppWall_300.vtk\n",
      "ppWall_320.vtk\n",
      "ppWall_340.vtk\n",
      "ppWall_360.vtk\n",
      "ppWall_380.vtk\n",
      "ppWall_40.vtk\n",
      "ppWall_400.vtk\n",
      "ppWall_420.vtk\n",
      "ppWall_440.vtk\n",
      "ppWall_460.vtk\n",
      "ppWall_480.vtk\n",
      "ppWall_500.vtk\n",
      "ppWall_520.vtk\n",
      "ppWall_540.vtk\n",
      "ppWall_560.vtk\n",
      "ppWall_580.vtk\n",
      "ppWall_60.vtk\n",
      "ppWall_600.vtk\n",
      "ppWall_620.vtk\n",
      "ppWall_640.vtk\n",
      "ppWall_660.vtk\n",
      "ppWall_680.vtk\n",
      "ppWall_700.vtk\n",
      "ppWall_720.vtk\n",
      "ppWall_740.vtk\n",
      "ppWall_760.vtk\n",
      "ppWall_780.vtk\n",
      "ppWall_80.vtk\n",
      "ppWall_800.vtk\n",
      "ppWall_820.vtk\n",
      "ppWall_840.vtk\n",
      "ppWall_860.vtk\n",
      "ppWall_880.vtk\n",
      "ppWall_900.vtk\n",
      "ppWall_920.vtk\n",
      "ppWall_940.vtk\n",
      "ppWall_960.vtk\n",
      "ppWall_980.vtk\n",
      "Read_VTK.ipynb\n",
      "top\n"
     ]
    }
   ],
   "source": [
    "import os\n",
    "files = os.listdir(\".\")\n",
    "for f in files:\n",
    "    print(f)"
   ]
  },
  {
   "cell_type": "code",
   "execution_count": 53,
   "metadata": {
    "collapsed": false
   },
   "outputs": [],
   "source": [
    "filename=\"ppWall_100.vtk\"\n",
    "# Load \n",
    "vf_plot = pvm.plot_vtk_matplotlib(filename,z_max=1, z_min=-1, vtkfiletype=\"UnstructuredGrid\"  )\n",
    "# Extract the data from the file\n",
    "vf_plot.extract_data()"
   ]
  },
  {
   "cell_type": "markdown",
   "metadata": {},
   "source": [
    "## Test what data we have"
   ]
  },
  {
   "cell_type": "code",
   "execution_count": 54,
   "metadata": {
    "collapsed": false
   },
   "outputs": [],
   "source": [
    "nodes_array = vf_plot.reader.GetOutput().GetPoints().GetData()\n",
    "vf_vtk_array = vf_plot.reader.GetOutput().GetPointData().GetArray(0) "
   ]
  },
  {
   "cell_type": "code",
   "execution_count": 55,
   "metadata": {
    "collapsed": false
   },
   "outputs": [],
   "source": [
    "from vtk.util.numpy_support import vtk_to_numpy\n",
    "nodes = vtk_to_numpy(nodes_array)\n",
    "vf = vtk_to_numpy(vf_vtk_array)"
   ]
  },
  {
   "cell_type": "code",
   "execution_count": 56,
   "metadata": {
    "collapsed": false
   },
   "outputs": [
    {
     "name": "stdout",
     "output_type": "stream",
     "text": [
      "882\n",
      "882\n"
     ]
    }
   ],
   "source": [
    "print len(nodes)\n",
    "print len(vf)"
   ]
  },
  {
   "cell_type": "code",
   "execution_count": 57,
   "metadata": {
    "collapsed": false
   },
   "outputs": [
    {
     "name": "stdout",
     "output_type": "stream",
     "text": [
      "0: node=[ 0.  0.  0.] v=1.46354e-06\n",
      "50: node=[ 0.80000001  0.01        0.        ] v=4.81823e-06\n",
      "100: node=[ 1.60000002  0.02        0.        ] v=2.44476e-06\n",
      "150: node=[ 0.30000001  0.035       0.        ] v=6.94983e-06\n",
      "200: node=[ 1.10000002  0.045       0.        ] v=3.80072e-06\n",
      "250: node=[ 1.89999998  0.055       0.        ] v=4.48869e-06\n",
      "300: node=[ 0.60000002  0.07        0.        ] v=5.47391e-06\n",
      "350: node=[ 1.39999998  0.08        0.        ] v=2.9648e-06\n",
      "400: node=[ 0.1    0.095  0.   ] v=1.28355e-05\n",
      "450: node=[ 0.89999998  0.          0.01      ] v=4.41073e-06\n",
      "500: node=[ 1.70000005  0.01        0.01      ] v=2.30834e-06\n",
      "550: node=[ 0.40000001  0.025       0.01      ] v=6.33486e-06\n",
      "600: node=[ 1.20000005  0.035       0.01      ] v=3.57132e-06\n",
      "650: node=[ 2.     0.045  0.01 ] v=0.0\n",
      "700: node=[ 0.69999999  0.06        0.01      ] v=5.0249e-06\n",
      "750: node=[ 1.5   0.07  0.01] v=2.61013e-06\n",
      "800: node=[ 0.2    0.085  0.01 ] v=8.80827e-06\n",
      "850: node=[ 1.     0.095  0.01 ] v=4.19096e-06\n"
     ]
    }
   ],
   "source": [
    "for i in range(0,880,50):\n",
    "    print(str(i)+\": node=\"+str(nodes[i])+\" v=\"+str(vf[i]))"
   ]
  },
  {
   "cell_type": "markdown",
   "metadata": {},
   "source": [
    "## Continute tutorial"
   ]
  },
  {
   "cell_type": "code",
   "execution_count": 35,
   "metadata": {
    "collapsed": false
   },
   "outputs": [
    {
     "ename": "IndexError",
     "evalue": "too many indices for array",
     "output_type": "error",
     "traceback": [
      "\u001b[0;31m---------------------------------------------------------------------------\u001b[0m",
      "\u001b[0;31mIndexError\u001b[0m                                Traceback (most recent call last)",
      "\u001b[0;32m<ipython-input-35-d3847e8b3d31>\u001b[0m in \u001b[0;36m<module>\u001b[0;34m()\u001b[0m\n\u001b[1;32m      2\u001b[0m \u001b[0;31m# vf_plot.vf is 1D array (vector)\u001b[0m\u001b[0;34m\u001b[0m\u001b[0;34m\u001b[0m\u001b[0m\n\u001b[1;32m      3\u001b[0m vf_plot.plot_vtk(0, 3,\n\u001b[0;32m----> 4\u001b[0;31m                 \u001b[0;36m0\u001b[0m\u001b[0;34m,\u001b[0m \u001b[0;36m3\u001b[0m\u001b[0;34m,\u001b[0m\u001b[0;34m\u001b[0m\u001b[0m\n\u001b[0m\u001b[1;32m      5\u001b[0m                 \u001b[0;31m# nx=50, ny=50,\u001b[0m\u001b[0;34m\u001b[0m\u001b[0;34m\u001b[0m\u001b[0m\n\u001b[1;32m      6\u001b[0m                 \u001b[0;31m#v_component='vy',\u001b[0m\u001b[0;34m\u001b[0m\u001b[0;34m\u001b[0m\u001b[0m\n",
      "\u001b[0;32m/usr/local/lib/python2.7/dist-packages/plot_vtk_matplotlib/plot_vtk_matplotlib.pyc\u001b[0m in \u001b[0;36mplot_vtk\u001b[0;34m(self, x_min, x_max, y_min, y_max, v_component, normalize_data, nx, ny, interpolator, xlim, ylim, figsize, cmap, hsv_map, cmap_alpha, quiver_map, colorbar, colorbar_label, quiver_type, quiver_color, pivot, nx_q, ny_q, frame, predefined_axis, x_label, y_label, savefig, interpolator_method, interpolator_hsv_method, interpolator_quiver_method, **quiver_args)\u001b[0m\n\u001b[1;32m    557\u001b[0m                     \u001b[0;31m# working well with the values outside the simulation mesh\u001b[0m\u001b[0;34m\u001b[0m\u001b[0;34m\u001b[0m\u001b[0m\n\u001b[1;32m    558\u001b[0m                     zi = scipy.interpolate.griddata((x, y),\n\u001b[0;32m--> 559\u001b[0;31m                                                     self.vf[:, comp[v_component]][\n\u001b[0m\u001b[1;32m    560\u001b[0m                                                         self.data_filter],\n\u001b[1;32m    561\u001b[0m                                                     \u001b[0;34m(\u001b[0m\u001b[0mxi\u001b[0m\u001b[0;34m,\u001b[0m \u001b[0myi\u001b[0m\u001b[0;34m)\u001b[0m\u001b[0;34m,\u001b[0m\u001b[0;34m\u001b[0m\u001b[0m\n",
      "\u001b[0;31mIndexError\u001b[0m: too many indices for array"
     ]
    }
   ],
   "source": [
    "# Plot the y component and arrows in black\n",
    "# vf_plot.vf is 1D array (vector)\n",
    "vf_plot.plot_vtk(0, 3,\n",
    "                0, 3,\n",
    "                # nx=50, ny=50,\n",
    "                #v_component='vy',\n",
    "                #hsv_map='2d',\n",
    "                # figsize=(10, 10),\n",
    "                # savefig='hsv_map.pdf',\n",
    "#                colorbar=True\n",
    "#                quiver_type='raw_colour',\n",
    "                )"
   ]
  },
  {
   "cell_type": "code",
   "execution_count": null,
   "metadata": {
    "collapsed": true
   },
   "outputs": [],
   "source": []
  },
  {
   "cell_type": "code",
   "execution_count": null,
   "metadata": {
    "collapsed": true
   },
   "outputs": [],
   "source": []
  }
 ],
 "metadata": {
  "kernelspec": {
   "display_name": "Python 2",
   "language": "python",
   "name": "python2"
  },
  "language_info": {
   "codemirror_mode": {
    "name": "ipython",
    "version": 2
   },
   "file_extension": ".py",
   "mimetype": "text/x-python",
   "name": "python",
   "nbconvert_exporter": "python",
   "pygments_lexer": "ipython2",
   "version": "2.7.3"
  }
 },
 "nbformat": 4,
 "nbformat_minor": 1
}
